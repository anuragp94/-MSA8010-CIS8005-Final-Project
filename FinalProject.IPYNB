# -MSA8010-CIS8005-Final-Project
{
 "cells": [
  {
   "cell_type": "markdown",
   "metadata": {
    "collapsed": false
   },
   "source": [
    "# Market Analysis For Internet Company Expansion\n",
    "\n",
    "Team Name: Meta Coders\n",
    "\n",
    "Authors: Preethi Bojja\n",
    "         Anurag Paliwal\n",
    "\n",
    "The project aims to suggest potential market globally for the cellular company to extend their business. Various parameters like the internet users per 100 people, cellular subscriptions per 100 people, population growth etc. are analyzed to predict the growth in market. "
   ]
  },
  {
   "cell_type": "code",
   "execution_count": null,
   "metadata": {
    "collapsed": true
   },
   "outputs": [],
   "source": [
    "# importing packages\n",
    "import wbdata # import worldbank data\n",
    "from pandas import DataFrame # import DataFrame from pandas\n",
    "import pandas as pd # import pandas\n",
    "import numpy as np # import numpy\n",
    "import datetime # import time module\n",
    "import matplotlib.pyplot as plt # (*) import matplotlib\n",
    "from pandas.stats.api import ols # for running the regression\n",
    "# to plot the graph in the ipython notebook\n",
    "%matplotlib inline "
   ]
  },
  {
   "cell_type": "code",
   "execution_count": null,
   "metadata": {
    "collapsed": false
   },
   "outputs": [],
   "source": [
    "# Explore database topics from world bank website\n",
    "wbdata.get_source()"
   ]
  },
  {
   "cell_type": "code",
   "execution_count": null,
   "metadata": {
    "collapsed": false,
    "scrolled": false
   },
   "outputs": [],
   "source": [
    "# List indicators in a selected topic by the source code\n",
    "wbdata.get_indicator(source=19)"
   ]
  },
  {
   "cell_type": "code",
   "execution_count": null,
   "metadata": {
    "collapsed": false
   },
   "outputs": [],
   "source": [
    "# searching indicators\n",
    "wbdata.search_indicators('internet')"
   ]
  },
  {
   "cell_type": "code",
   "execution_count": null,
   "metadata": {
    "collapsed": false
   },
   "outputs": [],
   "source": [
    "# Extract country names\n",
    "countryInfo = wbdata.get_country(country_id=None, display=False) # command to get country names\n",
    "country_Info = pd.DataFrame(countryInfo) \n",
    "cnames = []; # empty list to store country names\n",
    "ccodes = []; # empty list to store country codes\n",
    "for i in range(len(country_Info)):\n",
    "    if str(country_Info['region'][i]['value'])  != 'Aggregates':  \n",
    "        ccodes.append(country_Info['id'][i])\n",
    "        cnames.append(country_Info['name'][i])\n",
    "cnames=np.array(cnames,dtype=np.object)\n",
    "cnames1=DataFrame(cnames) # displays 214 countries\n",
    "cnames1"
   ]
  },
  {
   "cell_type": "code",
   "execution_count": null,
   "metadata": {
    "collapsed": false,
    "scrolled": false
   },
   "outputs": [],
   "source": [
    "# Retrieving internet users data from 2010-2014 to see the trend in the users profile\n",
    "data_date = (datetime.datetime(2010, 1, 1), datetime.datetime(2014, 1, 1)) # command to get time from 2010-2014\n",
    "internet_data=DataFrame(wbdata.get_data(\"IT.NET.USER.P2\",country=ccodes,pandas=True,data_date=data_date))\n",
    "internet_data"
   ]
  },
  {
   "cell_type": "code",
   "execution_count": null,
   "metadata": {
    "collapsed": false
   },
   "outputs": [],
   "source": [
    "# reshaping the dataframe\n",
    "new_data=np.reshape(np.array(internet_data),(-1,5))\n",
    "internet_df=DataFrame(new_data[:215],columns=['2014','2013','2012','2011','2010'],index=cnames[:214]).dropna()\n",
    "internet_df"
   ]
  },
  {
   "cell_type": "code",
   "execution_count": null,
   "metadata": {
    "collapsed": false,
    "scrolled": true
   },
   "outputs": [],
   "source": [
    "# calculating the % of growth in internet users based on previous years\n",
    "internet_df['Diff(14-13)']=(internet_df['2014']-internet_df['2013'])/internet_df['2014']\n",
    "internet_df['Diff(13-12)']=(internet_df['2013']-internet_df['2012'])/internet_df['2013']\n",
    "internet_df['Diff(12-11)']=(internet_df['2012']-internet_df['2011'])/internet_df['2012']\n",
    "internet_df['Diff(11-10)']=(internet_df['2011']-internet_df['2010'])/internet_df['2011']\n",
    "internet_df"
   ]
  },
  {
   "cell_type": "code",
   "execution_count": null,
   "metadata": {
    "collapsed": false,
    "scrolled": true
   },
   "outputs": [],
   "source": [
    "# finding out those countries where the growth rate is greater than 25% on 2014-2013 difference\n",
    "country_result=internet_df[internet_df['Diff(14-13)'] > 0.25]\n",
    "country_result=country_result[['Diff(11-10)','Diff(12-11)','Diff(13-12)','Diff(14-13)']]\n",
    "country_result"
   ]
  },
  {
   "cell_type": "code",
   "execution_count": null,
   "metadata": {
    "collapsed": false,
    "scrolled": true
   },
   "outputs": [],
   "source": [
    "# Transpose the resulted data frame to have a better fit in graph\n",
    "country_result.T"
   ]
  },
  {
   "cell_type": "code",
   "execution_count": null,
   "metadata": {
    "collapsed": false,
    "scrolled": true
   },
   "outputs": [],
   "source": [
    "country_result.T.plot(title='Countries with Internet Usage growth rate > 25%').legend(loc='center left', bbox_to_anchor=(1.2, 0.5))\n",
    "# Cameroon,Georgia,Lebanon,Macedonia,Mozambique"
   ]
  },
  {
   "cell_type": "code",
   "execution_count": null,
   "metadata": {
    "collapsed": false,
    "scrolled": true
   },
   "outputs": [],
   "source": [
    "# Retrieving data of the required indicators\n",
    "# Cellular subscriber/100 people\n",
    "# GDP\n",
    "# Population og age 15 and above (% of total)\n",
    "\n",
    "data=wbdata.get_dataframe(indicators={\"IT.NET.USER.P2\":\"Internet usage/100 ppl\",\n",
    "    \"SP.POP.1564.TO.ZS\":\"Population(% of total)\",\"IT.CEL.SETS.P2\":\"Cellular subsc_/100 people\",\n",
    "    \"NY.GDP.MKTP.KD.ZG\":\"GDP\",},country=ccodes,keep_levels=True,data_date=datetime.datetime(2014,1,1))\n",
    "data"
   ]
  },
  {
   "cell_type": "code",
   "execution_count": null,
   "metadata": {
    "collapsed": false,
    "scrolled": true
   },
   "outputs": [],
   "source": [
    "reg_data=wbdata.get_dataframe(indicators={\"IT.NET.USER.P2\":\"Internet usage/100 ppl)\",\n",
    "    \"SP.POP.1564.TO.ZS\":\"Population(% of total)\",\"IT.CEL.SETS.P2\":\"Cellular subsc_/100 people\",\n",
    "    \"NY.GDP.MKTP.KD.ZG\":\"GDP\"},country=ccodes,keep_levels=True,data_date=datetime.datetime(2014,1,1))\n",
    "reg_data"
   ]
  },
  {
   "cell_type": "code",
   "execution_count": null,
   "metadata": {
    "collapsed": false,
    "scrolled": true
   },
   "outputs": [],
   "source": [
    "reg_df = data.dropna()\n",
    "reg_df"
   ]
  },
  {
   "cell_type": "code",
   "execution_count": null,
   "metadata": {
    "collapsed": false
   },
   "outputs": [],
   "source": [
    "# Multiple Linear Regression\n",
    "reslt = ols(y=reg_df[\"Internet usage/100 ppl\"], x=reg_df[[\"GDP\", \"Population(% of total)\", \"Cellular subsc_/100 people\"]])\n",
    "reslt"
   ]
  },
  {
   "cell_type": "code",
   "execution_count": null,
   "metadata": {
    "collapsed": false
   },
   "outputs": [],
   "source": [
    "# Retrieving population users data from 2010-2014 to see the trend in the users profile\n",
    "#List of Countries with a steady or positive growth\n",
    "countryList = ['BD', 'CI', 'CM', 'EE', 'GE', 'LB', 'LK', 'MK', 'ME', 'MZ', 'PW', 'SA', 'VE', 'VN', 'YE' ]\n",
    "count_names=[u'Bangladesh', u\"Cote d'Ivoire\", u'Cameroon', u'Estonia', u'Georgia',\n",
    "       u'Lebanon', u'Sri Lanka', u\"Macedonia, FYR\", u'Montenegro',\n",
    "       u'Mozambique', u'Palau', u'Saudi Arabia', u\"Venezuela, RB\", u'Vietnam',\n",
    "       u'Yemen, Rep.']\n",
    "data_date = (datetime.datetime(2010, 1, 1), datetime.datetime(2014, 1, 1)) # command to get time from 2010-2014\n",
    "population_data=DataFrame(wbdata.get_data(\"SP.POP.1564.TO.ZS\",country=countryList,pandas=True,data_date=data_date))\n",
    "population_data"
   ]
  },
  {
   "cell_type": "code",
   "execution_count": null,
   "metadata": {
    "collapsed": false
   },
   "outputs": [],
   "source": [
    "# reshaping the dataframe\n",
    "new_data_p=np.reshape(np.array(population_data),(-1,5))\n",
    "population_df=DataFrame(new_data_p[:76],columns=['2014','2013','2012','2011','2010'],index=count_names).dropna()\n",
    "population_df"
   ]
  },
  {
   "cell_type": "code",
   "execution_count": null,
   "metadata": {
    "collapsed": false
   },
   "outputs": [],
   "source": [
    "# calculating the % of growth in internet users based on previous years\n",
    "population_df['Diff(14-13)']=(population_df['2014']-population_df['2013'])/population_df['2014']\n",
    "population_df['Diff(13-12)']=(population_df['2013']-population_df['2012'])/population_df['2013']\n",
    "population_df['Diff(12-11)']=(population_df['2012']-population_df['2011'])/population_df['2012']\n",
    "population_df['Diff(11-10)']=(population_df['2011']-population_df['2010'])/population_df['2011']\n",
    "population_df"
   ]
  },
  {
   "cell_type": "code",
   "execution_count": null,
   "metadata": {
    "collapsed": false
   },
   "outputs": [],
   "source": [
    "pop_result=population_df[['Diff(11-10)','Diff(12-11)','Diff(13-12)','Diff(14-13)']]\n",
    "pop_result"
   ]
  },
  {
   "cell_type": "code",
   "execution_count": null,
   "metadata": {
    "collapsed": false
   },
   "outputs": [],
   "source": [
    "pop_result.T.plot(title='Population growth of the Countries').legend(loc='center left', bbox_to_anchor=(1.2, 0.5))\n"
   ]
  },
  {
   "cell_type": "code",
   "execution_count": null,
   "metadata": {
    "collapsed": false
   },
   "outputs": [],
   "source": [
    "# Retrieving gdp users data from 2010-2014 to see the trend in the users profile\n",
    "data_date = (datetime.datetime(2010, 1, 1), datetime.datetime(2014, 1, 1)) # command to get time from 2010-2014\n",
    "gdp_data=DataFrame(wbdata.get_data(\"NY.GDP.MKTP.KD.ZG\",country=countryList,pandas=True,data_date=data_date))\n",
    "gdp_data"
   ]
  },
  {
   "cell_type": "code",
   "execution_count": null,
   "metadata": {
    "collapsed": false
   },
   "outputs": [],
   "source": [
    "# reshaping the dataframe\n",
    "new_data_g=np.reshape(np.array(gdp_data),(-1,5))\n",
    "gdp_df=DataFrame(new_data_g[:76],columns=['2014','2013','2012','2011','2010'],index=count_names).dropna()\n",
    "gdp_df"
   ]
  },
  {
   "cell_type": "code",
   "execution_count": null,
   "metadata": {
    "collapsed": false
   },
   "outputs": [],
   "source": [
    "# calculating the % of growth in internet users based on previous years\n",
    "gdp_df['Diff(14-13)']=(gdp_df['2014']-gdp_df['2013'])/gdp_df['2014']\n",
    "gdp_df['Diff(13-12)']=(gdp_df['2013']-gdp_df['2012'])/gdp_df['2013']\n",
    "gdp_df['Diff(12-11)']=(gdp_df['2012']-gdp_df['2011'])/gdp_df['2012']\n",
    "gdp_df['Diff(11-10)']=(gdp_df['2011']-gdp_df['2010'])/gdp_df['2011']\n",
    "gdp_df"
   ]
  },
  {
   "cell_type": "code",
   "execution_count": null,
   "metadata": {
    "collapsed": false
   },
   "outputs": [],
   "source": [
    "gdp_result=gdp_df[['Diff(11-10)','Diff(12-11)','Diff(13-12)','Diff(14-13)']]\n",
    "gdp_result.T"
   ]
  },
  {
   "cell_type": "code",
   "execution_count": null,
   "metadata": {
    "collapsed": false
   },
   "outputs": [],
   "source": [
    "gdp_result.T.plot(title=\"Countries with GDP growth rate\").legend(loc='center left', bbox_to_anchor=(1.2, 0.5))"
   ]
  },
  {
   "cell_type": "code",
   "execution_count": null,
   "metadata": {
    "collapsed": false
   },
   "outputs": [],
   "source": [
    "# Analyzing countries for ease of business\n",
    "countryList_eob = ['CM','GE', 'LB','MK', 'MZ' ]\n",
    "count_names_eob=[u'Cameroon', u'Georgia',u'Lebanon', u\"Macedonia, FYR\", u'Mozambique']\n",
    "business_data=DataFrame(wbdata.get_data(\"IC.BUS.EASE.XQ\",country=countryList_eob,pandas=True,data_date=datetime.datetime(2015, 1, 1)))\n",
    "business_data"
   ]
  },
  {
   "cell_type": "code",
   "execution_count": null,
   "metadata": {
    "collapsed": false
   },
   "outputs": [],
   "source": [
    "business_data.plot(kind='bar',title='Ease of Doing Business Index (smaller the better)')\n"
   ]
  },
  {
   "cell_type": "code",
   "execution_count": null,
   "metadata": {
    "collapsed": true
   },
   "outputs": [],
   "source": [
    "# Based on ease of business index, lower the value higher the potential for establishing business.\n",
    "#Thus, Macedonia is the potential lookout for business."
   ]
  }
 ],
 "metadata": {
  "kernelspec": {
   "display_name": "Python 2",
   "language": "python",
   "name": "python2"
  },
  "language_info": {
   "codemirror_mode": {
    "name": "ipython",
    "version": 2
   },
   "file_extension": ".py",
   "mimetype": "text/x-python",
   "name": "python",
   "nbconvert_exporter": "python",
   "pygments_lexer": "ipython2",
   "version": "2.7.10"
  }
 },
 "nbformat": 4,
 "nbformat_minor": 0
}
